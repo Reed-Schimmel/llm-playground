{
  "nbformat": 4,
  "nbformat_minor": 0,
  "metadata": {
    "colab": {
      "provenance": [],
      "gpuType": "T4",
      "authorship_tag": "ABX9TyONaRslJqd8wHBry39YVR/Q",
      "include_colab_link": true
    },
    "kernelspec": {
      "name": "python3",
      "display_name": "Python 3"
    },
    "language_info": {
      "name": "python"
    },
    "accelerator": "GPU"
  },
  "cells": [
    {
      "cell_type": "markdown",
      "metadata": {
        "id": "view-in-github",
        "colab_type": "text"
      },
      "source": [
        "<a href=\"https://colab.research.google.com/github/Reed-Schimmel/llm-playground/blob/main/task_list_erminator.ipynb\" target=\"_parent\"><img src=\"https://colab.research.google.com/assets/colab-badge.svg\" alt=\"Open In Colab\"/></a>"
      ]
    },
    {
      "cell_type": "markdown",
      "source": [
        "# Task List-erminator\n",
        "[blog post]() <-- TODO\n",
        "\n",
        "Let's start simple: LLM task prioritizer. I tell it everything I want to get done, and when it must be done. It updates the task list.\n",
        "\n",
        "---\n",
        "\n",
        "What is a task?\n",
        "1. Description\n",
        "2. Deadline, frequency?\n",
        "3. Subtasks\n",
        "4. Estimation time\n",
        "5. Consequences\n",
        "6. Classification: (un)important, (non)urgent\n",
        "7. Related goals (maybe)\n",
        "- misc additional notes\n",
        "\n",
        "Oversimplified task\n",
        "1. Description\n",
        "1. Deadline, frequency? (maybe not even this)\n",
        "1. Classification: (un)important, (non)urgent\n",
        "---\n",
        "use [this](https://lyz-code.github.io/blue-book/) section on planning and life management. Have LLM agents do the planning with input from the user."
      ],
      "metadata": {
        "id": "_NNRL9Lii5kZ"
      }
    },
    {
      "cell_type": "code",
      "source": [
        "EMBED_MODEL_STR = \"nomic-embed-text\"\n",
        "LLM_MODEL_STR = \"dolphin-mistral\""
      ],
      "metadata": {
        "id": "R-PIXwsPjNvV"
      },
      "execution_count": null,
      "outputs": []
    },
    {
      "cell_type": "markdown",
      "source": [
        "## Setup Env"
      ],
      "metadata": {
        "id": "t8JWGs18K4I3"
      }
    },
    {
      "cell_type": "markdown",
      "source": [
        "### Install [Ollama in Google Colab](https://github.com/AITwinMinds/Ollama-in-Google-Colab)\n",
        "  - Make sure to set the colab runtime to GPU"
      ],
      "metadata": {
        "id": "Ocfc5ie4v3ww"
      }
    },
    {
      "cell_type": "code",
      "source": [
        "# Install Ollama\n",
        "!sudo apt-get install -y pciutils\n",
        "!curl -fsSL https://ollama.com/install.sh | sh\n",
        "\n",
        "import os\n",
        "import threading\n",
        "import subprocess\n",
        "import requests\n",
        "import json\n",
        "\n",
        "def ollama():\n",
        "    os.environ['OLLAMA_HOST'] = '0.0.0.0:11434'\n",
        "    os.environ['OLLAMA_ORIGINS'] = '*'\n",
        "    subprocess.Popen([\"ollama\", \"serve\"])\n",
        "\n",
        "# Run Ollama server in background thread\n",
        "ollama_thread = threading.Thread(target=ollama)\n",
        "ollama_thread.start()\n",
        "\n",
        "# Install Ollama python package\n",
        "!pip install ollama\n",
        "\n",
        "# Download models\n",
        "print(\"\\n----------------------- DOWNLOADING MODELS -----------------------\")\n",
        "import ollama\n",
        "print(\"Pulling\", EMBED_MODEL_STR)\n",
        "status = ollama.pull(EMBED_MODEL_STR)['status']\n",
        "print(status)\n",
        "\n",
        "print(\"Pulling\", LLM_MODEL_STR)\n",
        "status = ollama.pull(LLM_MODEL_STR)['status']\n",
        "print(status)"
      ],
      "metadata": {
        "id": "naYI4UKDLAk3"
      },
      "execution_count": null,
      "outputs": []
    },
    {
      "cell_type": "code",
      "source": [
        "# Test that ollama is working\n",
        "response = ollama.chat(model=LLM_MODEL_STR, messages=[\n",
        "  {\n",
        "    'role': 'user',\n",
        "    'content': 'Why is the sky blue?',\n",
        "  },\n",
        "])\n",
        "print(response['message']['content'])"
      ],
      "metadata": {
        "colab": {
          "base_uri": "https://localhost:8080/"
        },
        "id": "5XUULiTNKoWJ",
        "outputId": "9d2ae21b-faee-4613-b619-96c8bd060a55"
      },
      "execution_count": null,
      "outputs": [
        {
          "output_type": "stream",
          "name": "stdout",
          "text": [
            " The sky appears blue due to a phenomenon called Rayleigh scattering. When sunlight enters Earth's atmosphere, it interacts with air molecules and particles, including nitrogen and oxygen. These interactions cause the light waves to scatter in various directions. \n",
            "\n",
            "Most colors in the visible light spectrum, such as red, orange, yellow, and green, have longer wavelengths. Due to the smaller scattering angles of these long-wavelength colors, they're less likely to interact with Earth's atmosphere and don't get scattered back to our eyes. \n",
            "\n",
            "On the other hand, blue light has a shorter wavelength which interacts more readily with air molecules, causing it to scatter in every direction. This is why on clear days, we see the sky predominantly as blue. The shortest-wavelength part of the visible spectrum (violet) gets scattered even more and can dominate the sky's color during sunrise and sunset when there is less atmosphere to block shorter-wavelength light.\n"
          ]
        }
      ]
    },
    {
      "cell_type": "code",
      "source": [],
      "metadata": {
        "id": "jvkTFzq-nDPI"
      },
      "execution_count": null,
      "outputs": []
    }
  ]
}